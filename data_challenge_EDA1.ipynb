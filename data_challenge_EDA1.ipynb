#!/usr/bin/env python3
# -*- coding: utf-8 -*-
"""
Created on Thu Jun 19 08:30:17 2025

@author: kennyaskelson
"""

###Data challenge 

import matplotlib.pyplot as plt
import pandas as pd
import seaborn as sns
from pandas.plotting import register_matplotlib_converters

import tensorflow as tf
from tensorflow import keras
from tensorflow.keras import layers
from tensorflow.keras.layers import LeakyReLU
from sklearn.model_selection import train_test_split
from sklearn.preprocessing import StandardScaler


from sklearn.dummy import DummyRegressor
from sklearn.model_selection import train_test_split
from sklearn.metrics import mean_squared_error
import numpy as np

df = pd.read_json('public_cases.json')

# Expand the 'input' column into its own DataFrame
input_expanded = pd.json_normalize(df['input'])

# Combine it back with the original expected_output column
df_cleaned = pd.concat([input_expanded, df['expected_output']], axis=1)


# Create a relational plot with multiple variables
sns.relplot(data=df_cleaned, x='miles_traveled', y='expected_output',
            hue='total_receipts_amount', palette='RdYlGn',
            size='trip_duration_days', sizes=(1, 300))
plt.show()


# Create a 3x2 grid of subplots
plt.figure(figsize=(10, 12))

column_names = ['trip_duration_days', 'miles_traveled', 'total_receipts_amount']

for idx, col in enumerate(column_names, start=1):
    plt.subplot(3, 1, idx)
    plt.scatter(df_cleaned[col], df_cleaned['expected_output'])
    plt.xlabel(col)
    plt.ylabel('expected_output')
    plt.title(f'{col} vs expected_output')
    
plt.tight_layout()
plt.show()


#All look a bit correlated

for col in column_names:
    print(df_cleaned[col].corr(df_cleaned['expected_output']))

# 'trip_duration_days' 0.5135091042475849
# 'miles_traveled' 0.4316616850154998
# 'total_receipts_amount' 0.7040349789948348

# Yep all pretty correlated 

# Pearson and Spearman give similar values 

