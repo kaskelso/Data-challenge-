{
 "cells": [
  {
   "cell_type": "code",
   "execution_count": null,
   "id": "624c9f51",
   "metadata": {},
   "outputs": [],
   "source": [
    "\"\"\"\n",
    "Created on Thu Jun 19 08:30:17 2025\n",
    "\n",
    "@author: kennyaskelson\n",
    "\"\"\""
   ]
  },
  {
   "cell_type": "markdown",
   "id": "c8994590",
   "metadata": {},
   "source": [
    "##Data challenge "
   ]
  },
  {
   "cell_type": "code",
   "execution_count": null,
   "id": "fb84f80b",
   "metadata": {},
   "outputs": [],
   "source": [
    "import matplotlib.pyplot as plt\n",
    "import pandas as pd\n",
    "import seaborn as sns\n",
    "from pandas.plotting import register_matplotlib_converters"
   ]
  },
  {
   "cell_type": "code",
   "execution_count": null,
   "id": "fd853b15",
   "metadata": {
    "lines_to_next_cell": 2
   },
   "outputs": [],
   "source": [
    "import tensorflow as tf\n",
    "from tensorflow import keras\n",
    "from tensorflow.keras import layers\n",
    "from tensorflow.keras.layers import LeakyReLU\n",
    "from sklearn.model_selection import train_test_split\n",
    "from sklearn.preprocessing import StandardScaler"
   ]
  },
  {
   "cell_type": "code",
   "execution_count": null,
   "id": "06841570",
   "metadata": {},
   "outputs": [],
   "source": [
    "from sklearn.dummy import DummyRegressor\n",
    "from sklearn.model_selection import train_test_split\n",
    "from sklearn.metrics import mean_squared_error\n",
    "import numpy as np"
   ]
  },
  {
   "cell_type": "code",
   "execution_count": null,
   "id": "74229dde",
   "metadata": {},
   "outputs": [],
   "source": [
    "df = pd.read_json('public_cases.json')"
   ]
  },
  {
   "cell_type": "code",
   "execution_count": null,
   "id": "b35617b4",
   "metadata": {},
   "outputs": [],
   "source": [
    "# Expand the 'input' column into its own DataFrame\n",
    "input_expanded = pd.json_normalize(df['input'])"
   ]
  },
  {
   "cell_type": "code",
   "execution_count": null,
   "id": "56f61024",
   "metadata": {
    "lines_to_next_cell": 2
   },
   "outputs": [],
   "source": [
    "# Combine it back with the original expected_output column\n",
    "df_cleaned = pd.concat([input_expanded, df['expected_output']], axis=1)"
   ]
  },
  {
   "cell_type": "code",
   "execution_count": null,
   "id": "3b854d9b",
   "metadata": {
    "lines_to_next_cell": 2
   },
   "outputs": [],
   "source": [
    "# Create a relational plot with multiple variables\n",
    "sns.relplot(data=df_cleaned, x='miles_traveled', y='expected_output',\n",
    "            hue='total_receipts_amount', palette='RdYlGn',\n",
    "            size='trip_duration_days', sizes=(1, 300))\n",
    "plt.show()"
   ]
  },
  {
   "cell_type": "code",
   "execution_count": null,
   "id": "15a49ca2",
   "metadata": {},
   "outputs": [],
   "source": [
    "# Create a 3x2 grid of subplots\n",
    "plt.figure(figsize=(10, 12))"
   ]
  },
  {
   "cell_type": "code",
   "execution_count": null,
   "id": "4128fac4",
   "metadata": {},
   "outputs": [],
   "source": [
    "column_names = ['trip_duration_days', 'miles_traveled', 'total_receipts_amount']"
   ]
  },
  {
   "cell_type": "code",
   "execution_count": null,
   "id": "9b5db17b",
   "metadata": {},
   "outputs": [],
   "source": [
    "for idx, col in enumerate(column_names, start=1):\n",
    "    plt.subplot(3, 1, idx)\n",
    "    plt.scatter(df_cleaned[col], df_cleaned['expected_output'])\n",
    "    plt.xlabel(col)\n",
    "    plt.ylabel('expected_output')\n",
    "    plt.title(f'{col} vs expected_output')"
   ]
  },
  {
   "cell_type": "code",
   "execution_count": null,
   "id": "f6ee25b1",
   "metadata": {
    "lines_to_next_cell": 2
   },
   "outputs": [],
   "source": [
    "plt.tight_layout()\n",
    "plt.show()"
   ]
  },
  {
   "cell_type": "markdown",
   "id": "d4f6c7bb",
   "metadata": {},
   "source": [
    "All look a bit correlated"
   ]
  },
  {
   "cell_type": "code",
   "execution_count": null,
   "id": "7bf819f4",
   "metadata": {},
   "outputs": [],
   "source": [
    "for col in column_names:\n",
    "    print(df_cleaned[col].corr(df_cleaned['expected_output']))"
   ]
  },
  {
   "cell_type": "markdown",
   "id": "82fbf0db",
   "metadata": {},
   "source": [
    "'trip_duration_days' 0.5135091042475849\n",
    "'miles_traveled' 0.4316616850154998\n",
    "'total_receipts_amount' 0.7040349789948348"
   ]
  },
  {
   "cell_type": "markdown",
   "id": "13464bb6",
   "metadata": {},
   "source": [
    "Yep all pretty correlated "
   ]
  },
  {
   "cell_type": "markdown",
   "id": "85393599",
   "metadata": {
    "lines_to_next_cell": 2
   },
   "source": [
    "Pearson and Spearman give similar values "
   ]
  }
 ],
 "metadata": {
  "jupytext": {
   "cell_metadata_filter": "-all",
   "encoding": "# -*- coding: utf-8 -*-",
   "executable": "/usr/bin/env python3",
   "main_language": "python",
   "notebook_metadata_filter": "-all"
  }
 },
 "nbformat": 4,
 "nbformat_minor": 5
}
